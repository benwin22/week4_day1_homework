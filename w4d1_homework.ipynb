{
 "cells": [
  {
   "cell_type": "markdown",
   "metadata": {},
   "source": [
    "# Regular Expressions"
   ]
  },
  {
   "cell_type": "markdown",
   "metadata": {},
   "source": [
    "# Tasks today:\n",
    "1) <b>Importing</b> <br>\n",
    "2) <b>Using Regular Expressions</b> <br>\n",
    " &nbsp;&nbsp;&nbsp;&nbsp; a) re.compile() <br>\n",
    " &nbsp;&nbsp;&nbsp;&nbsp; b) re.match() <br>\n",
    " &nbsp;&nbsp;&nbsp;&nbsp; c) re.findall() <br>\n",
    " &nbsp;&nbsp;&nbsp;&nbsp; d) re.search() <br>\n",
    "3) <b>Sets</b> <br>\n",
    " &nbsp;&nbsp;&nbsp;&nbsp; a) Integer Ranges <br>\n",
    " &nbsp;&nbsp;&nbsp;&nbsp; b) Character Ranges <br>\n",
    "4) <b>Counting Occurences</b> <br>\n",
    " &nbsp;&nbsp;&nbsp;&nbsp; a) {x} <br>\n",
    " &nbsp;&nbsp;&nbsp;&nbsp; b) {, x} <br>\n",
    " &nbsp;&nbsp;&nbsp;&nbsp; c) {?} <br>\n",
    " &nbsp;&nbsp;&nbsp;&nbsp; d) {*} <br>\n",
    " &nbsp;&nbsp;&nbsp;&nbsp; e) {+} <br>\n",
    "5) <b>In-Class Exercise #1</b> <br>\n",
    "6) <b>Escaping Characters</b> <br>\n",
    "7) <b>Grouping</b> <br>\n",
    "8) <b>In-Class Exercise #2</b> <br>\n",
    "9) <b>Opening a File</b> <br>\n",
    " &nbsp;&nbsp;&nbsp;&nbsp; a) open() <br>\n",
    " &nbsp;&nbsp;&nbsp;&nbsp; b) with open() <br>\n",
    " &nbsp;&nbsp;&nbsp;&nbsp; c) re.match() <br>\n",
    " &nbsp;&nbsp;&nbsp;&nbsp; d) re.search() <br>\n",
    " &nbsp;&nbsp;&nbsp;&nbsp; e) Store the String in a Variable <br>\n",
    "10) <b>Regex Project</b> <br>"
   ]
  },
  {
   "cell_type": "markdown",
   "metadata": {},
   "source": [
    "### Importing <br>\n",
    "<p>Regular Expressions are universal throughout most programming languages... They are generally imported through the module 're'.</p>"
   ]
  },
  {
   "cell_type": "code",
   "execution_count": null,
   "metadata": {},
   "outputs": [],
   "source": [
    "\n"
   ]
  },
  {
   "cell_type": "code",
   "execution_count": null,
   "metadata": {},
   "outputs": [],
   "source": [
    "# import re\n",
    "import re"
   ]
  },
  {
   "cell_type": "markdown",
   "metadata": {},
   "source": [
    "### Using Regular Expressions <br>\n",
    "<p>Regular expressions give us the ability to search for patterns within text, strings, files, etc. They serve several uses, such as; security measures, searching, filtering, pattern recognition, and more...</p>"
   ]
  },
  {
   "cell_type": "markdown",
   "metadata": {},
   "source": [
    "##### re.compile()"
   ]
  },
  {
   "cell_type": "code",
   "execution_count": null,
   "metadata": {},
   "outputs": [],
   "source": [
    "# determine the string to be used in a regular expression\n",
    "pattern = re.compile(\"abcd\")"
   ]
  },
  {
   "cell_type": "markdown",
   "metadata": {},
   "source": [
    "##### re.match()"
   ]
  },
  {
   "cell_type": "code",
   "execution_count": null,
   "metadata": {},
   "outputs": [],
   "source": [
    "# return the first match, if no match it will stop\n",
    "match = pattern.match(\"abcd123\")\n",
    "print(match)\n",
    "\n",
    "#  accessing the span of the match\n",
    "#  the starting and stopping index of the match in the match string\n",
    "print(match.span())\n",
    "\n",
    "# if match doesn't find a match it will immediately stop searching\n",
    "match2 = pattern.match(\"123abcd\")\n",
    "print(match2)"
   ]
  },
  {
   "cell_type": "markdown",
   "metadata": {},
   "source": [
    "##### re.findall()"
   ]
  },
  {
   "cell_type": "code",
   "execution_count": null,
   "metadata": {},
   "outputs": [],
   "source": [
    "# returns a list of all matches in a string\n",
    "pattern = re.compile(\"abcd\")\n",
    "finders = pattern.findall(\"123abcd abcd123 abcabc acd acab 1abcd23\")\n",
    "\n",
    "print(finders)\n",
    "help(re.findall)"
   ]
  },
  {
   "cell_type": "markdown",
   "metadata": {},
   "source": [
    "##### re.search()"
   ]
  },
  {
   "cell_type": "code",
   "execution_count": null,
   "metadata": {},
   "outputs": [],
   "source": [
    "# first instance of a match\n",
    "help(re.search)\n",
    "\n",
    "pattern = re.compile(\"abcd\")\n",
    "\n",
    "random_string = \"123 123 1234 342 abcd abcd\"\n",
    "\n",
    "search_result = pattern.search(random_string)\n",
    "\n",
    "print(search_result)"
   ]
  },
  {
   "cell_type": "markdown",
   "metadata": {},
   "source": [
    "### Sets <br>\n",
    "<p>The following cells will allow you to use regular expressions to search for certain values within a range such as numbers 1 through 4.</p>"
   ]
  },
  {
   "cell_type": "markdown",
   "metadata": {},
   "source": [
    "##### [a-z] or [A-Z] - any lowercase/uppercase letters from a to z<br/>[^2] - anything that's not 2"
   ]
  },
  {
   "cell_type": "markdown",
   "metadata": {},
   "source": [
    "##### Integer Ranges"
   ]
  },
  {
   "cell_type": "code",
   "execution_count": null,
   "metadata": {},
   "outputs": [],
   "source": [
    "pattern_int = re.compile(\"[0-7][7-9][0-3]\")\n",
    "random_numbers = pattern_int.search(\"67383\")\n",
    "print(random_numbers)\n",
    "\n",
    "random_numbers2 = pattern_int.search(\"652582\")\n",
    "print(random_numbers2)"
   ]
  },
  {
   "cell_type": "markdown",
   "metadata": {},
   "source": [
    "##### Character Ranges"
   ]
  },
  {
   "cell_type": "code",
   "execution_count": null,
   "metadata": {},
   "outputs": [],
   "source": [
    "char_pattern = re.compile('[A-Z][a-z][a-z][a-z]')\n",
    "found = char_pattern.findall(\"four letter names. Alex, Ryan, Benj, Jaun\")\n",
    "print(found)"
   ]
  },
  {
   "cell_type": "markdown",
   "metadata": {},
   "source": [
    "### Counting Occurences"
   ]
  },
  {
   "cell_type": "markdown",
   "metadata": {},
   "source": [
    "##### {x} - something that occurs {num_of_times}"
   ]
  },
  {
   "cell_type": "code",
   "execution_count": null,
   "metadata": {},
   "outputs": [],
   "source": [
    "char_pattern_count = re.compile('[A-Z]{2}[0-9]')\n",
    "found_count = char_pattern_count.findall(\"BB8 is pretty cool, R2D2 C3P0, PP4\")\n",
    "print(found_count)"
   ]
  },
  {
   "cell_type": "markdown",
   "metadata": {},
   "source": [
    "##### {x, x} - something that occurs between x and x times"
   ]
  },
  {
   "cell_type": "code",
   "execution_count": null,
   "metadata": {},
   "outputs": [],
   "source": [
    "#  set a range of occurances\n",
    "random_pattern = re.compile('m{1,5}')\n",
    "random_statement = random_pattern.findall(\"This is an example of trying to find some ms. We need a lot of mms and mmms and mmmms and mmmmms and mmmmmmmmmmsmmmmmsmmmmsmmsmmsmsms\")\n",
    "print(random_statement)"
   ]
  },
  {
   "cell_type": "code",
   "execution_count": null,
   "metadata": {},
   "outputs": [],
   "source": [
    "num_pattern = re.compile(\"[0-5]{1,4}\")\n",
    "num_string = \"14356531497631429713597\"\n",
    "num_match = num_pattern.findall(num_string)\n",
    "print(num_match)"
   ]
  },
  {
   "cell_type": "markdown",
   "metadata": {},
   "source": [
    "##### ? - something that occurs 0 or 1 time"
   ]
  },
  {
   "cell_type": "code",
   "execution_count": null,
   "metadata": {},
   "outputs": [],
   "source": [
    "# optional\n",
    "\n",
    "pattern = re.compile(\"[A-Z]?[a-z]{4}\")\n",
    "found_pat = pattern.findall(\"Hello my name is ryan and I like to party. Also, Andres is here\")\n",
    "print(found_pat)"
   ]
  },
  {
   "cell_type": "markdown",
   "metadata": {},
   "source": [
    "##### * - something that occurs at least 0 times"
   ]
  },
  {
   "cell_type": "code",
   "execution_count": null,
   "metadata": {},
   "outputs": [],
   "source": [
    "#  .* --> wild card grab ANY character happening 0 - many times\n",
    "\n",
    "pattern = re.compile('[A-Z][a-z]*')\n",
    "found_pat = pattern.findall(\"Hello there, I am Dr. Strange no fighting in the War room \")\n",
    "print(found_pat)\n"
   ]
  },
  {
   "cell_type": "code",
   "execution_count": null,
   "metadata": {},
   "outputs": [],
   "source": [
    "pattern = re.compile(\"[0-9]*\")\n",
    "found_pat = pattern.findall(\"This is a list of phone numbers: 7134277569 8322628380 8324897117\")\n",
    "print(found_pat)\n",
    "# this will pull back non number spaces\n",
    "\n",
    "pattern = re.compile(\"[0-9][0-9]*\")\n",
    "found_pat = pattern.findall(\"This is a list of phone numbers: 7134277569 8322628380 8324897117\")\n",
    "print(found_pat)"
   ]
  },
  {
   "cell_type": "markdown",
   "metadata": {},
   "source": [
    "##### + - something that occurs at least once"
   ]
  },
  {
   "cell_type": "code",
   "execution_count": null,
   "metadata": {},
   "outputs": [],
   "source": [
    "phone_number = re.compile(\"[0-9]+\")\n",
    "found_pat = pattern.findall(\"This is a list of phone numbers: 7134277569 8322628380 8324897117\")\n",
    "print(found_pat)"
   ]
  },
  {
   "cell_type": "code",
   "execution_count": null,
   "metadata": {},
   "outputs": [],
   "source": [
    "pattern = re.compile(\"M+s\")\n",
    "\n",
    "found_m = pattern.findall(\"MMMs naMe is Ms SMith. These are Ms MMMs MMMs MMMMs MMMr Me Mq MMt\")\n",
    "print(found_m)"
   ]
  },
  {
   "cell_type": "markdown",
   "metadata": {},
   "source": [
    "##### In-class exercise 1: \n",
    "\n",
    "Use a regular expression to find every number in the given string"
   ]
  },
  {
   "cell_type": "code",
   "execution_count": null,
   "metadata": {},
   "outputs": [],
   "source": [
    "pattern = re.compile(\"[0-9]+\")\n",
    "found_pat = pattern.findall(\"alskjflaksj9dsfalksdjfalskfj 09alsfd0009 49494 838383 9292 84848 safsfd\")\n",
    "print(found_pat)"
   ]
  },
  {
   "cell_type": "code",
   "execution_count": 38,
   "metadata": {},
   "outputs": [
    {
     "name": "stdout",
     "output_type": "stream",
     "text": [
      "['R2', 'D2', 'C3', 'P0', 'B8']\n",
      "['R2D2', 'C3P0', 'BB8']\n",
      "['R2D2', 'C3P0', 'BB8']\n"
     ]
    }
   ],
   "source": [
    "pattern = re.compile(\"[A-Z]{1}[0-9]\")\n",
    "found_pat = pattern.findall(\"Here are some droid names: R2D2 is pretty cool and C3P0 is a nerd. BB8 is fine and there are other ones too that i cant think of.\")\n",
    "print(found_pat)\n",
    "pattern = re.compile(\"[A-Z][0-9]*[A-Z][0-9]\")\n",
    "found_pat = pattern.findall(\"Here are some droid names: R2D2 is pretty cool and C3P0 is a nerd. BB8 is fine and there are other ones too that i cant think of.\")\n",
    "print(found_pat)\n",
    "pattern = re.compile(\"[A-Z][0-9]?[A-Z][0-9]\")\n",
    "found_pat = pattern.findall(\"Here are some droid names: R2D2 is pretty cool and C3P0 is a nerd. BB8 is fine and there are other ones too that i cant think of.\")\n",
    "print(found_pat)\n"
   ]
  },
  {
   "cell_type": "markdown",
   "metadata": {},
   "source": [
    "### Escaping Characters"
   ]
  },
  {
   "cell_type": "markdown",
   "metadata": {},
   "source": [
    "##### \\w - look for any Unicode character<br/>\\W - look for anything that isnt a Unicode character\n",
    "\n",
    "[History on Unicode](http://unicode.org/standard/WhatIsUnicode.html)\n",
    "\n",
    "[More on Unicode Characters](https://en.wikipedia.org/wiki/List_of_Unicode_characters)"
   ]
  },
  {
   "cell_type": "code",
   "execution_count": null,
   "metadata": {},
   "outputs": [],
   "source": [
    "# ex:\n",
    "# print('My dog\\'s name is Eyo')"
   ]
  },
  {
   "cell_type": "code",
   "execution_count": null,
   "metadata": {},
   "outputs": [],
   "source": [
    "pattern = re.compile('[\\w]+')\n",
    "pattern2 = re.compile('[\\W]+')\n",
    "unicode_string = \"This is a sentence with an excaltion point at the end! Also, don't forget to floss.\"\n",
    "\n",
    "found_1 = pattern.findall(unicode_string)\n",
    "print(found_1)\n",
    "\n",
    "print(\"\\n\")\n",
    "\n",
    "found_2 = pattern2.findall(unicode_string)\n",
    "print(found_2)\n",
    "\n"
   ]
  },
  {
   "cell_type": "markdown",
   "metadata": {},
   "source": [
    "##### \\d - look for any digit 0-9<br/>\\D - look for anything that isnt a digit"
   ]
  },
  {
   "cell_type": "code",
   "execution_count": null,
   "metadata": {},
   "outputs": [],
   "source": [
    "# similar  to [0-9] but cant set ranges\n",
    "pattern_nums = re.compile('\\d{1,2}[a-z]{1,2}')\n",
    "found_date = pattern_nums.findall(\"Today is the 30th tomorrow will be the 31th and in 5 days it will be the 4th.\")\n",
    "print(found_date)\n",
    "pattern_nums = re.compile('\\d{1,2}')\n",
    "found_date = pattern_nums.findall(\"Today is the 30th tomorrow will be the 31th and in five days it will be the 4th.\")\n",
    "print(found_date)"
   ]
  },
  {
   "cell_type": "code",
   "execution_count": null,
   "metadata": {},
   "outputs": [],
   "source": [
    "pattern_nums = re.compile('\\D+')\n",
    "found_date = pattern_nums.findall(\"Today is the 30th tomorrow will be the 31th and in five days it will be the 4th.\")\n",
    "print(found_date)"
   ]
  },
  {
   "cell_type": "markdown",
   "metadata": {},
   "source": [
    "##### \\s - look for any white space<br/>\\S - look for anything that isnt whitespace"
   ]
  },
  {
   "cell_type": "code",
   "execution_count": null,
   "metadata": {},
   "outputs": [],
   "source": [
    "pattern_space = re.compile('\\s+')\n",
    "pattern_no_space = re.compile('\\S+')\n",
    "                             \n",
    "\n",
    "found_space = pattern_space.findall(\"Are            you             afraid of the            dark?\")\n",
    "print(found_space)\n",
    "\n",
    "found_nospace = pattern_no_space.findall('Are you afraid of the dark?')\n",
    "print(found_nospace)"
   ]
  },
  {
   "cell_type": "markdown",
   "metadata": {},
   "source": [
    "##### \\b - look for boundaries or edges of a word<br/>\\B - look for anything that isnt a boundary"
   ]
  },
  {
   "cell_type": "code",
   "execution_count": null,
   "metadata": {},
   "outputs": [],
   "source": [
    "pattern_bound = re.compile(r'\\bTheCodingTemple\\b')\n",
    "\n",
    "pattern_bound_none = re.compile(r'\\BTheCodingTemple\\B')\n",
    "\n",
    "no_found_bound = pattern_bound_none.findall(\" TheCodingTemple\")\n",
    "print(no_found_bound)\n",
    "\n",
    "found_bound = pattern_bound.findall(\"TheCodingTemple\")\n",
    "print(found_bound)"
   ]
  },
  {
   "cell_type": "code",
   "execution_count": null,
   "metadata": {},
   "outputs": [],
   "source": [
    "new_pattern = re.compile(r\"\\bRyan\\b\")\n",
    "new_pattern2 = re.compile(r\"\\BRyan\\B\")\n",
    "\n",
    "found_pattern = new_pattern.findall('name Ryan name')\n",
    "\n",
    "print(found_pattern)\n",
    "\n",
    "pattern_boundary = new_pattern2.findall('nameRyanname')\n",
    "\n",
    "print(pattern_boundary)"
   ]
  },
  {
   "cell_type": "markdown",
   "metadata": {},
   "source": [
    "### Grouping"
   ]
  },
  {
   "cell_type": "code",
   "execution_count": null,
   "metadata": {},
   "outputs": [],
   "source": [
    "my_string = \"Max Smith, aaron rodgers, Sam Darnold, LeBron James, Micheal Jordan, Kevin Durant, Patrick McCormick\"\n",
    "# Creating our groups in our pattern\n",
    "pattern_name = re.compile('([A-Z][\\w]+) ([A-Z][\\w]+)')\n",
    "                                #group1         group2\n",
    "found_names = pattern_name.findall(my_string)\n",
    "print(found_names)\n",
    "\n",
    "for name in my_string.split(','):\n",
    "    match = pattern_name.search(name)\n",
    "    \n",
    "    if match:\n",
    "        print(match.groups())\n",
    "#       print(match.group(1), match.group(2))\n",
    "        \n",
    "    else:\n",
    "        print(\"Not a valid name\")"
   ]
  },
  {
   "cell_type": "markdown",
   "metadata": {},
   "source": [
    "##### In-class Exercise 2:\n",
    "\n",
    "Write a function using regular expressions to find the domain name in the given email addresses (and return None for the invalid email addresses)<br><b>HINT: Use '|' for either or</b>"
   ]
  },
  {
   "cell_type": "code",
   "execution_count": null,
   "metadata": {},
   "outputs": [],
   "source": [
    "my_string = \"Max Smith, aaron rodgers, Sam Darnold, LeBron James, Micheal Jordan, Kevin Durant, Patrick McCormick\"\n",
    "# Creating our groups in our pattern\n",
    "pattern_name = re.compile('([A-Z][\\w]+) ([A-Z][\\w]+)')\n",
    "                                #group1         group2\n",
    "# found_names = pattern_name.findall(my_string)\n",
    "# print(found_names)\n",
    "\n",
    "for name in my_string.split(','):\n",
    "    match = pattern_name.search(name)\n",
    "    \n",
    "    if match:\n",
    "        print(match.groups())\n",
    "#       print(match.group(1), match.group(2))\n",
    "        \n",
    "    else:\n",
    "        print(\"Not a valid name\")"
   ]
  },
  {
   "cell_type": "code",
   "execution_count": null,
   "metadata": {},
   "outputs": [],
   "source": [
    "my_emails = [\"jordanw@codingtemple.orgcom\", \"pocohontas1776@gmail.com\", \"helloworld@aol..com\",\n",
    "             \"yourfavoriteband@g6.org\", \"@codingtemple.com\"]\n",
    "\n",
    "# You can also use the $ at the end of your compile expression -- this stops the search\n",
    "\n",
    "#.com OR .org => com|org\n",
    "\n",
    "pattern_emails = re.compile('[a-z0-7]+@[a-z0-7].[a-z]*')\n",
    "found_emails = pattern_emails.findall(my_emails[1])\n",
    "print(found_emails)\n",
    "\n",
    "# for emails in my_emails():\n",
    "#     match = pattern_emails.search(name)\n",
    "    \n",
    "#     if match:\n",
    "#         print(match.groups())\n",
    "#     else:\n",
    "#         print(\"none\")\n"
   ]
  },
  {
   "cell_type": "code",
   "execution_count": null,
   "metadata": {},
   "outputs": [],
   "source": [
    "my_emails = [\"jordanw@codingtemple.orgcom\", \"pocohontas1776@gmail.com\", \"helloworld@aol..com\",\n",
    "             \"yourfavoriteband@g6.org\", \"@codingtemple.com\"]\n",
    "\n",
    "email_pattern = re.compile(\"([a-z]+[0-9]*)@([\\w]+)(.com|.org)$\")\n",
    "found_email = email_pattern.findall(my_emails[1])\n",
    "print(found_email)\n",
    "\n",
    "for email in my_emails:\n",
    "    if email_pattern.match(email):\n",
    "        print(email)\n",
    "    else:\n",
    "        print(None)\n",
    "\n"
   ]
  },
  {
   "cell_type": "markdown",
   "metadata": {},
   "source": [
    "### Opening a File <br>\n",
    "<p>Python gives us a couple ways to import files, below are the two used most often.</p>"
   ]
  },
  {
   "cell_type": "markdown",
   "metadata": {},
   "source": [
    "##### open()"
   ]
  },
  {
   "cell_type": "code",
   "execution_count": null,
   "metadata": {},
   "outputs": [],
   "source": [
    "f = open(\"names.txt\")\n",
    "\n",
    "data = f.read()\n",
    "\n",
    "print(data)\n",
    "\n",
    "f.close()\n",
    "\n",
    "print(type(data))"
   ]
  },
  {
   "cell_type": "markdown",
   "metadata": {},
   "source": [
    "##### with open()"
   ]
  },
  {
   "cell_type": "code",
   "execution_count": null,
   "metadata": {},
   "outputs": [],
   "source": [
    "#  use for homework\n",
    "with open(\"names.txt\") as f:\n",
    "    data = f.readlines()\n",
    "    for line in data:\n",
    "        print(line)"
   ]
  },
  {
   "cell_type": "markdown",
   "metadata": {},
   "source": [
    "##### re.match()"
   ]
  },
  {
   "cell_type": "code",
   "execution_count": null,
   "metadata": {},
   "outputs": [],
   "source": [
    "import re"
   ]
  },
  {
   "cell_type": "code",
   "execution_count": null,
   "metadata": {},
   "outputs": [],
   "source": [
    "print(data)\n",
    "print(re.match(\"Vader, Darth\", data))\n",
    "\n",
    "person_pattern = re.compile(\"Vader, Darth\")\n",
    "\n",
    "found_person = person_pattern.match(data)\n",
    "print(found_person)"
   ]
  },
  {
   "cell_type": "markdown",
   "metadata": {},
   "source": [
    "\n",
    "##### re.search()"
   ]
  },
  {
   "cell_type": "code",
   "execution_count": null,
   "metadata": {},
   "outputs": [],
   "source": [
    "print(re.search(\"Vader, Darth\", data))"
   ]
  },
  {
   "cell_type": "markdown",
   "metadata": {},
   "source": [
    "##### Store the String to a Variable"
   ]
  },
  {
   "cell_type": "code",
   "execution_count": null,
   "metadata": {},
   "outputs": [],
   "source": [
    "answer = input(\"What would you like to search for? \")\n",
    "found = re.findall(answer, data)\n",
    "\n",
    "if found:\n",
    "    print(f\"I found your data: {found}\")\n",
    "else:\n",
    "    print(\"That person does not exist!\")"
   ]
  },
  {
   "cell_type": "markdown",
   "metadata": {},
   "source": [
    "### In-Class Exercise #3 <br>\n",
    "<p>Print each persons name and twitter handle, using groups, should look like:</p>\n",
    "<p>==============<br>\n",
    "   Full Name / Twitter<br>\n",
    "   ==============</p>\n",
    "Derek Hawkins / @derekhawkins\n",
    "\n",
    " Erik Sven-Osterberg / @sverik\n",
    "\n",
    " Ryan Butz / @ryanbutz\n",
    "\n",
    " Example Exampleson / @example\n",
    "\n",
    " Ripal Pael / @ripalp\n",
    "\n",
    " Darth Vader / @darthvader"
   ]
  },
  {
   "cell_type": "code",
   "execution_count": null,
   "metadata": {},
   "outputs": [],
   "source": [
    "with open(\"names.txt\") as f:\n",
    "    data = f.readlines()\n",
    "#     print(data[0])\n",
    "    \n",
    "pattern = ('^([A-Z][\\w]+), ([A-Z][\\w]+).*(@[a-z]+[\\w]+)$') \n",
    "# find = data[0]\n",
    "\n",
    "for name in data:\n",
    "    match = re.search(pattern, name)\n",
    "    if match:\n",
    "        matched_text = match.group(2),match.group(1),match.group(3)\n",
    "        print(matched_text)\n",
    "    else:\n",
    "        print()\n"
   ]
  },
  {
   "cell_type": "code",
   "execution_count": null,
   "metadata": {},
   "outputs": [],
   "source": [
    "        \n",
    "# pattern = ('([A-Z][\\w]+)')\n",
    "# find = data[0]\n",
    "# match = re.search(pattern, find)\n",
    "# for name in pattern.split(','):\n",
    "#     if match:\n",
    "#         matched_text = match.group(0)\n",
    "#         print(matched_text)\n",
    "#     else:\n",
    "#         print(\"not found\")\n",
    "        \n",
    "# pattern = ('@([d-z]+[\\w]+)')\n",
    "# find = data[0]\n",
    "# match = re.search(pattern, find)\n",
    "# for name in pattern.split():\n",
    "#     if match:\n",
    "#         matched_text = match.group()\n",
    "#         print(matched_text)\n",
    "#     else:\n",
    "#         print(\"not found\")\n",
    "\n",
    "# I can't figure out how to group my patterns and make them all on one line        \n"
   ]
  },
  {
   "cell_type": "code",
   "execution_count": null,
   "metadata": {},
   "outputs": [],
   "source": [
    "# with open(\"names.txt\") as f:\n",
    "#     data = f.readlines()\n",
    "#     print(data[0])\n",
    "\n",
    "# import re\n",
    "# pattern = ('([A-Z][\\w]+)')\n",
    "# find = data[0]\n",
    "# match = re.search(pattern, find)\n",
    "# for name in pattern.split():\n",
    "#     if match:\n",
    "#         matched_text = match.group(0)\n",
    "#         print(matched_text)\n",
    "#     else:\n",
    "#         print(\"not found\")\n",
    "# pattern = ('(@[A-Z][\\w]+)')\n",
    "# find = data[0]\n",
    "# match = re.search(pattern, find)\n",
    "# for name in pattern.split():\n",
    "#     if match:\n",
    "#         matched_text = match.group(0)\n",
    "#         print(matched_text)\n",
    "#     else:\n",
    "#         print(\"not found\")"
   ]
  },
  {
   "cell_type": "code",
   "execution_count": null,
   "metadata": {},
   "outputs": [],
   "source": [
    "with open(\"names.txt\") as f:\n",
    "    data = f.readlines()\n",
    "    print(data[0])\n",
    "\n",
    "import re\n",
    "pattern = ('([A-Z][\\w]+)')\n",
    "find = data[0]\n",
    "match = re.search(pattern, find)\n",
    "for name in pattern.split():\n",
    "    if match:\n",
    "        matched_text = match.group(0)\n",
    "        print(matched_text)\n",
    "    else:\n",
    "        print(\"not found\")\n",
    "        \n",
    "        \n",
    "with open(\"names.txt\") as f:\n",
    "    data = f.readlines()\n",
    "    print(data[1])\n",
    "\n",
    "import re\n",
    "pattern = ('([A-Z][\\w]+)')\n",
    "find = data[1]\n",
    "match = re.search(pattern, find)\n",
    "for name in pattern.split():\n",
    "    if match:\n",
    "        matched_text = match.group(1)\n",
    "        print(matched_text)\n",
    "    else:\n",
    "        print(\"not found\")"
   ]
  },
  {
   "cell_type": "code",
   "execution_count": null,
   "metadata": {},
   "outputs": [],
   "source": []
  },
  {
   "cell_type": "code",
   "execution_count": null,
   "metadata": {},
   "outputs": [],
   "source": [
    "with open(\"names.txt\") as f:\n",
    "    data = f.readlines()\n",
    "    print(data[0])\n",
    "# data = my_string\n",
    "# pattern_name = re.compile('[A-z]')\n",
    "# found_names = pattern_name.findall(my_string)\n",
    "# print(found_names)"
   ]
  },
  {
   "cell_type": "code",
   "execution_count": null,
   "metadata": {},
   "outputs": [],
   "source": []
  },
  {
   "cell_type": "markdown",
   "metadata": {},
   "source": [
    "### Regex project\n",
    "\n",
    "Use python to read the file regex_test.txt and print the last name on each line using regular expressions and groups (return None for names with no first and last name, or names that aren't properly capitalized)\n",
    "##### Hint: use with open() and readlines()"
   ]
  },
  {
   "cell_type": "code",
   "execution_count": 53,
   "metadata": {},
   "outputs": [
    {
     "name": "stdout",
     "output_type": "stream",
     "text": [
      "Abraham Lincoln\n",
      "Andrew P Garfield\n",
      "Connor Milliken\n",
      "Jordan Alexander Williams\n",
      "Madonna\n",
      "None\n"
     ]
    },
    {
     "data": {
      "text/plain": [
       "'\\nExpected Output\\nAbraham Lincoln\\nAndrew P Garfield\\nConnor Milliken\\nJordan Alexander Williams\\nNone\\nNone\\n'"
      ]
     },
     "execution_count": 53,
     "metadata": {},
     "output_type": "execute_result"
    }
   ],
   "source": [
    "import re\n",
    "\n",
    "with open(\"regex_test.txt\") as f:\n",
    "    data = f.readlines()\n",
    "      \n",
    "pattern = ('^([A-Z][\\w]+).*')\n",
    "\n",
    "for name in data:\n",
    "    match = re.search(pattern, name)\n",
    "    if match:\n",
    "        matched_text = match.group(0)\n",
    "        print(matched_text)\n",
    "    else:\n",
    "        print(None)\n",
    "        \n",
    "    \n",
    "# pattern = ('^([A-Z][\\w]+).*')\n",
    "\n",
    "# for name in data:\n",
    "#     match = re.findall(pattern, name)\n",
    "#     if match:\n",
    "#         matched_text = match\n",
    "#         print(matched_text)\n",
    "#     else:\n",
    "#         print(None)\n",
    "\n",
    "\n",
    "\"\"\"\n",
    "Expected Output\n",
    "Abraham Lincoln\n",
    "Andrew P Garfield\n",
    "Connor Milliken\n",
    "Jordan Alexander Williams\n",
    "None\n",
    "None\n",
    "\"\"\""
   ]
  },
  {
   "cell_type": "code",
   "execution_count": null,
   "metadata": {},
   "outputs": [],
   "source": []
  }
 ],
 "metadata": {
  "kernelspec": {
   "display_name": "Python 3 (ipykernel)",
   "language": "python",
   "name": "python3"
  },
  "language_info": {
   "codemirror_mode": {
    "name": "ipython",
    "version": 3
   },
   "file_extension": ".py",
   "mimetype": "text/x-python",
   "name": "python",
   "nbconvert_exporter": "python",
   "pygments_lexer": "ipython3",
   "version": "3.11.4"
  }
 },
 "nbformat": 4,
 "nbformat_minor": 2
}
